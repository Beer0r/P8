{
 "metadata": {
  "name": "",
  "signature": "sha256:3f2ed15a8546deab0754572a87bb1ff13de2349b47c5a24a23ed9597dce4180b"
 },
 "nbformat": 3,
 "nbformat_minor": 0,
 "worksheets": [
  {
   "cells": [
    {
     "cell_type": "markdown",
     "metadata": {},
     "source": [
      "Init of numpy, sunpy, astropy, scidb and JSOC"
     ]
    },
    {
     "cell_type": "code",
     "collapsed": false,
     "input": [
      "import csv\n",
      "import os\n",
      "import numpy\n",
      "import astropy\n",
      "import sunpy\n",
      "from sunpy.net import jsoc\n",
      "from astropy.io import fits\n",
      "from scidbpy import connect, SciDBQueryError, SciDBArray\n",
      "sdb = connect('http://localhost:8080')\n",
      "afl = sdb.afl\n",
      "client = jsoc.JSOCClient()"
     ],
     "language": "python",
     "metadata": {},
     "outputs": [],
     "prompt_number": 1
    },
    {
     "cell_type": "markdown",
     "metadata": {},
     "source": [
      "Define JSOC Query"
     ]
    },
    {
     "cell_type": "code",
     "collapsed": false,
     "input": [
      "response = client.query(jsoc.Time('2014-01-01T00:00:00', '2014-01-01T01:00:00'), jsoc.Series('hmi.m_45s'), jsoc.Notify(\"simon.marcin@fhnw.ch\"))\n",
      "print response"
     ],
     "language": "python",
     "metadata": {},
     "outputs": [
      {
       "output_type": "stream",
       "stream": "stdout",
       "text": [
        "        DATE         TELESCOP  INSTRUME  ... WAVELNTH     WAVEUNIT   \n",
        "-------------------- -------- ---------- ... -------- ---------------\n",
        "2014-01-05T17:44:53Z  SDO/HMI HMI_FRONT2 ...   6173.0 Invalid KeyLink\n",
        "2014-01-05T17:46:02Z  SDO/HMI HMI_FRONT2 ...   6173.0 Invalid KeyLink\n",
        "2014-01-05T17:47:11Z  SDO/HMI HMI_FRONT2 ...   6173.0 Invalid KeyLink\n",
        "2014-01-05T17:48:18Z  SDO/HMI HMI_FRONT2 ...   6173.0 Invalid KeyLink\n",
        "2014-01-05T17:49:26Z  SDO/HMI HMI_FRONT2 ...   6173.0 Invalid KeyLink\n",
        "2014-01-05T17:50:34Z  SDO/HMI HMI_FRONT2 ...   6173.0 Invalid KeyLink\n",
        "2014-01-05T17:51:43Z  SDO/HMI HMI_FRONT2 ...   6173.0 Invalid KeyLink\n",
        "2014-01-05T17:52:51Z  SDO/HMI HMI_FRONT2 ...   6173.0 Invalid KeyLink\n",
        "2014-01-05T17:53:59Z  SDO/HMI HMI_FRONT2 ...   6173.0 Invalid KeyLink\n",
        "2014-01-05T17:55:08Z  SDO/HMI HMI_FRONT2 ...   6173.0 Invalid KeyLink\n",
        "                 ...      ...        ... ...      ...             ...\n",
        "2014-01-05T19:04:41Z  SDO/HMI HMI_FRONT2 ...   6173.0 Invalid KeyLink\n",
        "2014-01-05T19:05:49Z  SDO/HMI HMI_FRONT2 ...   6173.0 Invalid KeyLink\n",
        "2014-01-05T17:35:43Z  SDO/HMI HMI_FRONT2 ...   6173.0 Invalid KeyLink\n",
        "2014-01-05T17:36:54Z  SDO/HMI HMI_FRONT2 ...   6173.0 Invalid KeyLink\n",
        "2014-01-05T17:38:02Z  SDO/HMI HMI_FRONT2 ...   6173.0 Invalid KeyLink\n",
        "2014-01-05T17:39:10Z  SDO/HMI HMI_FRONT2 ...   6173.0 Invalid KeyLink\n",
        "2014-01-05T17:40:18Z  SDO/HMI HMI_FRONT2 ...   6173.0 Invalid KeyLink\n",
        "2014-01-05T17:41:25Z  SDO/HMI HMI_FRONT2 ...   6173.0 Invalid KeyLink\n",
        "2014-01-05T17:42:33Z  SDO/HMI HMI_FRONT2 ...   6173.0 Invalid KeyLink\n",
        "2014-01-05T17:43:41Z  SDO/HMI HMI_FRONT2 ...   6173.0 Invalid KeyLink\n",
        "2014-01-05T17:44:52Z  SDO/HMI HMI_FRONT2 ...   6173.0 Invalid KeyLink\n",
        "Length = 81 rows\n"
       ]
      }
     ],
     "prompt_number": 9
    },
    {
     "cell_type": "markdown",
     "metadata": {},
     "source": [
      "Start download"
     ]
    },
    {
     "cell_type": "code",
     "collapsed": false,
     "input": [
      "res = client.get(response)"
     ],
     "language": "python",
     "metadata": {},
     "outputs": [
      {
       "output_type": "stream",
       "stream": "stdout",
       "text": [
        "Request JSOC_20151203_857 was submitted 1 seconds ago, it is not ready to download.\n",
        "Request JSOC_20151203_857 was submitted -9 seconds ago, it is not ready to download."
       ]
      },
      {
       "output_type": "stream",
       "stream": "stdout",
       "text": [
        "\n",
        "Request JSOC_20151203_857 was submitted -20 seconds ago, it is not ready to download."
       ]
      },
      {
       "output_type": "stream",
       "stream": "stdout",
       "text": [
        "\n",
        "Request JSOC_20151203_857 was submitted -31 seconds ago, it is not ready to download."
       ]
      },
      {
       "output_type": "stream",
       "stream": "stdout",
       "text": [
        "\n",
        "Request JSOC_20151203_857 was submitted -42 seconds ago, it is not ready to download."
       ]
      },
      {
       "output_type": "stream",
       "stream": "stdout",
       "text": [
        "\n",
        "Request JSOC_20151203_857 was submitted -52 seconds ago, it is not ready to download."
       ]
      },
      {
       "output_type": "stream",
       "stream": "stdout",
       "text": [
        "\n",
        "Request JSOC_20151203_857 was exported at 2015.12.03_11:57:41_UT and is ready to download."
       ]
      },
      {
       "output_type": "stream",
       "stream": "stdout",
       "text": [
        "\n",
        "81 URLs found for download. Totalling 1226MB"
       ]
      },
      {
       "output_type": "stream",
       "stream": "stdout",
       "text": [
        "\n"
       ]
      }
     ]
    },
    {
     "cell_type": "markdown",
     "metadata": {},
     "source": [
      "Create 3D Array to store the images. x-axis, y-axis and time-axis."
     ]
    },
    {
     "cell_type": "code",
     "collapsed": false,
     "input": [
      "sdb.query(\"CREATE ARRAY HMI_Cube <val:float>[x=0:4095,512,1, y=0:4095,512,1, time=0:*,1,0]\")"
     ],
     "language": "python",
     "metadata": {},
     "outputs": [],
     "prompt_number": 2
    },
    {
     "cell_type": "markdown",
     "metadata": {},
     "source": [
      "Validate the schema of the created array"
     ]
    },
    {
     "cell_type": "code",
     "collapsed": false,
     "input": [
      "hmi_cube = sdb.wrap_array(\"HMI_Cube\")\n",
      "print hmi_cube.datashape.schema"
     ],
     "language": "python",
     "metadata": {},
     "outputs": [
      {
       "output_type": "stream",
       "stream": "stdout",
       "text": [
        "<val:float> [x=0:4095,512,1,y=0:4095,512,1,time=0:*,1,0]\n"
       ]
      }
     ],
     "prompt_number": 25
    },
    {
     "cell_type": "code",
     "collapsed": false,
     "input": [
      "Get some basic fits information useing astropy.fits"
     ],
     "language": "python",
     "metadata": {},
     "outputs": []
    },
    {
     "cell_type": "code",
     "collapsed": false,
     "input": [
      "hdulist = fits.open('/home/scidb/sunpy/data/hmi.m_45s.20140101_000045_TAI.2.magnetogram.fits')\n",
      "hdulist.info()"
     ],
     "language": "python",
     "metadata": {},
     "outputs": [
      {
       "output_type": "stream",
       "stream": "stdout",
       "text": [
        "Filename: /home/scidb/sunpy/data/hmi.m_45s.20140101_000045_TAI.2.magnetogram.fits\n",
        "No.    Name         Type      Cards   Dimensions   Format\n",
        "0    PRIMARY     PrimaryHDU       6   ()              \n",
        "1                CompImageHDU    103   (4096, 4096)   int32   \n"
       ]
      }
     ],
     "prompt_number": 22
    },
    {
     "cell_type": "markdown",
     "metadata": {},
     "source": [
      "Process all fits file. The time dimension is broken down to an increasing integer. The file 'hmi_cube_import.csv' is a flat array representation of all fits file which gets imported to SciDB."
     ]
    },
    {
     "cell_type": "code",
     "collapsed": false,
     "input": [
      "f = open('/home/scidb/p8/hmi_cube_import.csv','w')\n",
      "count=0\n",
      "for fn in os.listdir(\"./sunpy/data\"):\n",
      "    if fn.endswith(\"fits\"):\n",
      "        hdulist = fits.open('/home/scidb/sunpy/data/'+fn)\n",
      "        hdulist[1].verify('fix')\n",
      "        scidata = hdulist[1].data\n",
      "        for x in xrange(0, 4095):\n",
      "            for y in xrange(0, 4095):\n",
      "                f.write('%d,%d,%d,%f\\n' % (x,y,count,scidata[x][y]))\n",
      "        print (fn+\" done\")\n",
      "        count=count+1\n",
      "f.close()"
     ],
     "language": "python",
     "metadata": {},
     "outputs": [
      {
       "output_type": "stream",
       "stream": "stdout",
       "text": [
        "hmi.m_45s.20140101_001330_TAI.2.magnetogram.fits done\n",
        "hmi.m_45s.20140101_001930_TAI.2.magnetogram.fits done"
       ]
      },
      {
       "output_type": "stream",
       "stream": "stdout",
       "text": [
        "\n",
        "hmi.m_45s.20140101_002145_TAI.2.magnetogram.fits done"
       ]
      },
      {
       "output_type": "stream",
       "stream": "stdout",
       "text": [
        "\n",
        "hmi.m_45s.20140101_005830_TAI.2.magnetogram.fits done"
       ]
      },
      {
       "output_type": "stream",
       "stream": "stdout",
       "text": [
        "\n",
        "hmi.m_45s.20140101_004245_TAI.2.magnetogram.fits done"
       ]
      },
      {
       "output_type": "stream",
       "stream": "stdout",
       "text": [
        "\n",
        "hmi.m_45s.20140101_003645_TAI.2.magnetogram.fits done"
       ]
      },
      {
       "output_type": "stream",
       "stream": "stdout",
       "text": [
        "\n",
        "hmi.m_45s.20140101_004715_TAI.2.magnetogram.fits done"
       ]
      },
      {
       "output_type": "stream",
       "stream": "stdout",
       "text": [
        "\n",
        "hmi.m_45s.20140101_001545_TAI.2.magnetogram.fits done"
       ]
      },
      {
       "output_type": "stream",
       "stream": "stdout",
       "text": [
        "\n",
        "hmi.m_45s.20140101_005015_TAI.2.magnetogram.fits done"
       ]
      },
      {
       "output_type": "stream",
       "stream": "stdout",
       "text": [
        "\n",
        "hmi.m_45s.20140101_005530_TAI.2.magnetogram.fits done"
       ]
      },
      {
       "output_type": "stream",
       "stream": "stdout",
       "text": [
        "\n",
        "hmi.m_45s.20140101_005745_TAI.2.magnetogram.fits done"
       ]
      },
      {
       "output_type": "stream",
       "stream": "stdout",
       "text": [
        "\n",
        "hmi.m_45s.20150101_000130_TAI.2.magnetogram.fits done"
       ]
      },
      {
       "output_type": "stream",
       "stream": "stdout",
       "text": [
        "\n",
        "hmi.m_45s.20140101_002745_TAI.2.magnetogram.fits done"
       ]
      },
      {
       "output_type": "stream",
       "stream": "stdout",
       "text": [
        "\n",
        "hmi.m_45s.20140101_005230_TAI.2.magnetogram.fits done"
       ]
      },
      {
       "output_type": "stream",
       "stream": "stdout",
       "text": [
        "\n",
        "hmi.m_45s.20140101_002445_TAI.2.magnetogram.fits done"
       ]
      },
      {
       "output_type": "stream",
       "stream": "stdout",
       "text": [
        "\n",
        "hmi.m_45s.20140101_004115_TAI.2.magnetogram.fits done"
       ]
      },
      {
       "output_type": "stream",
       "stream": "stdout",
       "text": [
        "\n",
        "hmi.m_45s.20140101_005700_TAI.2.magnetogram.fits done"
       ]
      },
      {
       "output_type": "stream",
       "stream": "stdout",
       "text": [
        "\n",
        "hmi.m_45s.20140101_000215_TAI.2.magnetogram.fits done"
       ]
      },
      {
       "output_type": "stream",
       "stream": "stdout",
       "text": [
        "\n",
        "hmi.m_45s.20140101_000945_TAI.2.magnetogram.fits done"
       ]
      },
      {
       "output_type": "stream",
       "stream": "stdout",
       "text": [
        "\n",
        "hmi.m_45s.20140101_004415_TAI.2.magnetogram.fits done"
       ]
      },
      {
       "output_type": "stream",
       "stream": "stdout",
       "text": [
        "\n",
        "hmi.m_45s.20150101_000045_TAI.2.magnetogram.fits done"
       ]
      },
      {
       "output_type": "stream",
       "stream": "stdout",
       "text": [
        "\n",
        "hmi.m_45s.20140101_000345_TAI.2.magnetogram.fits done"
       ]
      },
      {
       "output_type": "stream",
       "stream": "stdout",
       "text": [
        "\n",
        "hmi.m_45s.20140101_002015_TAI.2.magnetogram.fits done"
       ]
      },
      {
       "output_type": "stream",
       "stream": "stdout",
       "text": [
        "\n",
        "hmi.m_45s.20140101_004930_TAI.2.magnetogram.fits done"
       ]
      },
      {
       "output_type": "stream",
       "stream": "stdout",
       "text": [
        "\n",
        "hmi.m_45s.20140101_001415_TAI.2.magnetogram.fits done"
       ]
      },
      {
       "output_type": "stream",
       "stream": "stdout",
       "text": [
        "\n",
        "hmi.m_45s.20140101_004845_TAI.2.magnetogram.fits done"
       ]
      },
      {
       "output_type": "stream",
       "stream": "stdout",
       "text": [
        "\n",
        "hmi.m_45s.20140101_002400_TAI.2.magnetogram.fits done"
       ]
      },
      {
       "output_type": "stream",
       "stream": "stdout",
       "text": [
        "\n",
        "hmi.m_45s.20140101_004200_TAI.2.magnetogram.fits done"
       ]
      },
      {
       "output_type": "stream",
       "stream": "stdout",
       "text": [
        "\n",
        "hmi.m_45s.20140101_001115_TAI.2.magnetogram.fits done"
       ]
      },
      {
       "output_type": "stream",
       "stream": "stdout",
       "text": [
        "\n",
        "hmi.m_45s.20140101_000645_TAI.2.magnetogram.fits done"
       ]
      },
      {
       "output_type": "stream",
       "stream": "stdout",
       "text": [
        "\n",
        "hmi.m_45s.20140101_003130_TAI.2.magnetogram.fits done"
       ]
      },
      {
       "output_type": "stream",
       "stream": "stdout",
       "text": [
        "\n",
        "hmi.m_45s.20140101_005100_TAI.2.magnetogram.fits done"
       ]
      },
      {
       "output_type": "stream",
       "stream": "stdout",
       "text": [
        "\n",
        "hmi.m_45s.20140101_003345_TAI.2.magnetogram.fits done"
       ]
      },
      {
       "output_type": "stream",
       "stream": "stdout",
       "text": [
        "\n",
        "hmi.m_45s.20140101_004800_TAI.2.magnetogram.fits done"
       ]
      },
      {
       "output_type": "stream",
       "stream": "stdout",
       "text": [
        "\n",
        "hmi.m_45s.20140101_000730_TAI.2.magnetogram.fits done"
       ]
      },
      {
       "output_type": "stream",
       "stream": "stdout",
       "text": [
        "\n",
        "hmi.m_45s.20140101_005445_TAI.2.magnetogram.fits done"
       ]
      },
      {
       "output_type": "stream",
       "stream": "stdout",
       "text": [
        "\n",
        "hmi.m_45s.20140101_005145_TAI.2.magnetogram.fits done"
       ]
      },
      {
       "output_type": "stream",
       "stream": "stdout",
       "text": [
        "\n",
        "hmi.m_45s.20140101_001200_TAI.2.magnetogram.fits done"
       ]
      },
      {
       "output_type": "stream",
       "stream": "stdout",
       "text": [
        "\n",
        "hmi.m_45s.20140101_002315_TAI.2.magnetogram.fits done"
       ]
      },
      {
       "output_type": "stream",
       "stream": "stdout",
       "text": [
        "\n",
        "hmi.m_45s.20140101_003600_TAI.2.magnetogram.fits done"
       ]
      },
      {
       "output_type": "stream",
       "stream": "stdout",
       "text": [
        "\n",
        "hmi.m_45s.20140101_002230_TAI.2.magnetogram.fits done"
       ]
      },
      {
       "output_type": "stream",
       "stream": "stdout",
       "text": [
        "\n",
        "hmi.m_45s.20140101_001500_TAI.2.magnetogram.fits done"
       ]
      },
      {
       "output_type": "stream",
       "stream": "stdout",
       "text": [
        "\n",
        "hmi.m_45s.20140101_004030_TAI.2.magnetogram.fits done"
       ]
      },
      {
       "output_type": "stream",
       "stream": "stdout",
       "text": [
        "\n",
        "hmi.m_45s.20140101_000600_TAI.2.magnetogram.fits done"
       ]
      },
      {
       "output_type": "stream",
       "stream": "stdout",
       "text": [
        "\n",
        "hmi.m_45s.20140101_004330_TAI.2.magnetogram.fits done"
       ]
      },
      {
       "output_type": "stream",
       "stream": "stdout",
       "text": [
        "\n",
        "hmi.m_45s.20140101_003045_TAI.2.magnetogram.fits done"
       ]
      },
      {
       "output_type": "stream",
       "stream": "stdout",
       "text": [
        "\n",
        "hmi.m_45s.20140101_005400_TAI.2.magnetogram.fits done"
       ]
      },
      {
       "output_type": "stream",
       "stream": "stdout",
       "text": [
        "\n",
        "hmi.m_45s.20140101_001845_TAI.2.magnetogram.fits done"
       ]
      },
      {
       "output_type": "stream",
       "stream": "stdout",
       "text": [
        "\n",
        "hmi.m_45s.20140101_005615_TAI.2.magnetogram.fits done"
       ]
      },
      {
       "output_type": "stream",
       "stream": "stdout",
       "text": [
        "\n",
        "hmi.m_45s.20140101_002700_TAI.2.magnetogram.fits done"
       ]
      },
      {
       "output_type": "stream",
       "stream": "stdout",
       "text": [
        "\n",
        "hmi.m_45s.20140101_002915_TAI.2.magnetogram.fits done"
       ]
      },
      {
       "output_type": "stream",
       "stream": "stdout",
       "text": [
        "\n",
        "hmi.m_45s.20140101_000815_TAI.2.magnetogram.fits done"
       ]
      },
      {
       "output_type": "stream",
       "stream": "stdout",
       "text": [
        "\n",
        "hmi.m_45s.20140101_003000_TAI.2.magnetogram.fits done"
       ]
      },
      {
       "output_type": "stream",
       "stream": "stdout",
       "text": [
        "\n",
        "hmi.m_45s.20140101_005315_TAI.2.magnetogram.fits done"
       ]
      },
      {
       "output_type": "stream",
       "stream": "stdout",
       "text": [
        "\n",
        "hmi.m_45s.20140101_003730_TAI.2.magnetogram.fits done"
       ]
      },
      {
       "output_type": "stream",
       "stream": "stdout",
       "text": [
        "\n",
        "hmi.m_45s.20140101_002615_TAI.2.magnetogram.fits done"
       ]
      },
      {
       "output_type": "stream",
       "stream": "stdout",
       "text": [
        "\n",
        "hmi.m_45s.20140101_000430_TAI.2.magnetogram.fits done"
       ]
      },
      {
       "output_type": "stream",
       "stream": "stdout",
       "text": [
        "\n",
        "hmi.m_45s.20140101_000515_TAI.2.magnetogram.fits done"
       ]
      },
      {
       "output_type": "stream",
       "stream": "stdout",
       "text": [
        "\n",
        "hmi.m_45s.20140101_001030_TAI.2.magnetogram.fits done"
       ]
      },
      {
       "output_type": "stream",
       "stream": "stdout",
       "text": [
        "\n",
        "hmi.m_45s.20140101_010000_TAI.2.magnetogram.fits done"
       ]
      },
      {
       "output_type": "stream",
       "stream": "stdout",
       "text": [
        "\n",
        "hmi.m_45s.20140101_003945_TAI.2.magnetogram.fits done"
       ]
      },
      {
       "output_type": "stream",
       "stream": "stdout",
       "text": [
        "\n",
        "hmi.m_45s.20140101_003515_TAI.2.magnetogram.fits done"
       ]
      },
      {
       "output_type": "stream",
       "stream": "stdout",
       "text": [
        "\n",
        "hmi.m_45s.20140101_000045_TAI.2.magnetogram.fits done"
       ]
      },
      {
       "output_type": "stream",
       "stream": "stdout",
       "text": [
        "\n",
        "hmi.m_45s.20140101_001630_TAI.2.magnetogram.fits done"
       ]
      },
      {
       "output_type": "stream",
       "stream": "stdout",
       "text": [
        "\n",
        "hmi.m_45s.20140101_004500_TAI.2.magnetogram.fits done"
       ]
      },
      {
       "output_type": "stream",
       "stream": "stdout",
       "text": [
        "\n",
        "hmi.m_45s.20140101_004630_TAI.2.magnetogram.fits done"
       ]
      },
      {
       "output_type": "stream",
       "stream": "stdout",
       "text": [
        "\n",
        "hmi.m_45s.20140101_002830_TAI.2.magnetogram.fits done"
       ]
      },
      {
       "output_type": "stream",
       "stream": "stdout",
       "text": [
        "\n",
        "hmi.m_45s.20140101_000300_TAI.2.magnetogram.fits done"
       ]
      },
      {
       "output_type": "stream",
       "stream": "stdout",
       "text": [
        "\n",
        "hmi.m_45s.20140101_002530_TAI.2.magnetogram.fits done"
       ]
      },
      {
       "output_type": "stream",
       "stream": "stdout",
       "text": [
        "\n",
        "hmi.m_45s.20140101_001715_TAI.2.magnetogram.fits done"
       ]
      },
      {
       "output_type": "stream",
       "stream": "stdout",
       "text": [
        "\n",
        "hmi.m_45s.20140101_002100_TAI.2.magnetogram.fits done"
       ]
      },
      {
       "output_type": "stream",
       "stream": "stdout",
       "text": [
        "\n",
        "hmi.m_45s.20140101_003900_TAI.2.magnetogram.fits done"
       ]
      },
      {
       "output_type": "stream",
       "stream": "stdout",
       "text": [
        "\n",
        "hmi.m_45s.20140101_000900_TAI.2.magnetogram.fits done"
       ]
      },
      {
       "output_type": "stream",
       "stream": "stdout",
       "text": [
        "\n",
        "hmi.m_45s.20140101_003815_TAI.2.magnetogram.fits done"
       ]
      },
      {
       "output_type": "stream",
       "stream": "stdout",
       "text": [
        "\n",
        "hmi.m_45s.20140101_001800_TAI.2.magnetogram.fits done"
       ]
      },
      {
       "output_type": "stream",
       "stream": "stdout",
       "text": [
        "\n",
        "hmi.m_45s.20140101_001245_TAI.2.magnetogram.fits done"
       ]
      },
      {
       "output_type": "stream",
       "stream": "stdout",
       "text": [
        "\n",
        "hmi.m_45s.20140101_000130_TAI.2.magnetogram.fits done"
       ]
      },
      {
       "output_type": "stream",
       "stream": "stdout",
       "text": [
        "\n",
        "hmi.m_45s.20140101_004545_TAI.2.magnetogram.fits done"
       ]
      },
      {
       "output_type": "stream",
       "stream": "stdout",
       "text": [
        "\n",
        "hmi.m_45s.20140101_003215_TAI.2.magnetogram.fits done"
       ]
      },
      {
       "output_type": "stream",
       "stream": "stdout",
       "text": [
        "\n",
        "hmi.m_45s.20140101_003300_TAI.2.magnetogram.fits done"
       ]
      },
      {
       "output_type": "stream",
       "stream": "stdout",
       "text": [
        "\n",
        "hmi.m_45s.20140101_003430_TAI.2.magnetogram.fits done"
       ]
      },
      {
       "output_type": "stream",
       "stream": "stdout",
       "text": [
        "\n",
        "hmi.m_45s.20140101_005915_TAI.2.magnetogram.fits done"
       ]
      },
      {
       "output_type": "stream",
       "stream": "stdout",
       "text": [
        "\n"
       ]
      }
     ],
     "prompt_number": 71
    },
    {
     "cell_type": "markdown",
     "metadata": {},
     "source": [
      "Import the flat data in parallel into the database. (run on direct on bash):\n",
      "loadcsv.py -n 1 -a 'aFlat' -s '<x:int64,y:int64,time:int64, val:float> [csvRow=0:*,500000,0]' -i './p8/hmi_cube_import.csv' -A 'HMI_Cube' -S '<val:float> [x=0:4095,512,1,y=0:4095,512,1,time=0:*,1,0]'"
     ]
    },
    {
     "cell_type": "markdown",
     "metadata": {},
     "source": [
      "Disconnect from SciDB."
     ]
    },
    {
     "cell_type": "code",
     "collapsed": false,
     "input": [
      "sdb.reap()"
     ],
     "language": "python",
     "metadata": {},
     "outputs": [],
     "prompt_number": 3
    }
   ],
   "metadata": {}
  }
 ]
}